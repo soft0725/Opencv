{
 "cells": [
  {
   "cell_type": "markdown",
   "id": "f5d857ef",
   "metadata": {},
   "source": [
    "# 4. 텍스트"
   ]
  },
  {
   "cell_type": "markdown",
   "id": "f4b79156",
   "metadata": {},
   "source": [
    "## Opencv 에서 사용하는 글꼴 종류 \n",
    "1. cv2.FONT_HERSHEY_SIMPLEX : 보통 크기의 산 셰리프(sans-serif) 글꼴\n",
    "2. cv2.FONT_HERSHEY_PLAIN : 작은 크기의 산 세리프 글꼴\n",
    "3. cv2.FONT_HERSHEY_SCRIPT_SIMPLEX : 필기체 스타일 글꼴\n",
    "4. cv2.FONT_HERSHEY_TRIPLEX : 보통 크기의 산 세리프 글꼴 \n",
    "5. cv2.FONT_ITALIC : 기울임 (이탤릭체)"
   ]
  },
  {
   "cell_type": "code",
   "execution_count": 8,
   "id": "f96404b7",
   "metadata": {},
   "outputs": [],
   "source": [
    "import numpy as np\n",
    "import cv2 \n",
    "\n",
    "img = np.zeros((480, 640, 3), dtype = np.uint8)\n",
    "\n",
    "COLOR = (255,255,255) # 흰색 \n",
    "THICKNESS = 1 # 두께 \n",
    "SCALE = 1 # 크기\n",
    "\n",
    "cv2.putText(img, 'Nado Simplex', (20, 50), cv2.FONT_HERSHEY_SIMPLEX, SCALE, COLOR, THICKNESS)\n",
    "# 그림 위치, 텍스트 내용, 시작 위치, 폰트 종류, 크기 , 색깔, 두께\n",
    "cv2.putText(img, 'Nado PLAIN', (20, 150), cv2.FONT_HERSHEY_PLAIN, SCALE, COLOR, THICKNESS)\n",
    "cv2.putText(img, 'Nado SCROPT_SIMPLEX', (20, 250), cv2.FONT_HERSHEY_SCRIPT_SIMPLEX, SCALE, COLOR, THICKNESS)\n",
    "cv2.putText(img, 'Nado ITALIC', (20, 450), cv2.FONT_HERSHEY_TRIPLEX|cv2.FONT_ITALIC, SCALE, COLOR, THICKNESS)\n",
    "\n",
    "cv2.imshow('img',img)\n",
    "cv2.waitKey(0)\n",
    "cv2.destroyAllWindows()"
   ]
  },
  {
   "cell_type": "markdown",
   "id": "39ff4678",
   "metadata": {},
   "source": [
    "## 한글 "
   ]
  },
  {
   "cell_type": "code",
   "execution_count": 9,
   "id": "2962cb79",
   "metadata": {},
   "outputs": [],
   "source": [
    "import numpy as np\n",
    "import cv2 \n",
    "\n",
    "img = np.zeros((480, 640, 3), dtype = np.uint8)\n",
    "\n",
    "COLOR = (255,255,255) # 흰색 \n",
    "THICKNESS = 1 # 두께 \n",
    "SCALE = 1 # 크기\n",
    "\n",
    "cv2.putText(img, '한글', (20, 50), cv2.FONT_HERSHEY_SIMPLEX, SCALE, COLOR, THICKNESS)\n",
    "# 그림 위치, 텍스트 내용, 시작 위치, 폰트 종류, 크기 , 색깔, 두께\n",
    "\n",
    "cv2.imshow('img',img)\n",
    "cv2.waitKey(0)\n",
    "cv2.destroyAllWindows()"
   ]
  },
  {
   "cell_type": "markdown",
   "id": "b176c79f",
   "metadata": {},
   "source": [
    "Opencv에서는 한글이 되지 않는다. 그래서 별도로 작업을 해주어야함 "
   ]
  },
  {
   "cell_type": "markdown",
   "id": "46e7c9d1",
   "metadata": {},
   "source": [
    "## 한글 우회 방법"
   ]
  },
  {
   "cell_type": "code",
   "execution_count": 14,
   "id": "ab6dc2f0",
   "metadata": {},
   "outputs": [],
   "source": [
    "import numpy as np\n",
    "import cv2 \n",
    "# PIL (Python Image Library)\n",
    "from PIL import ImageFont, ImageDraw, Image\n",
    "\n",
    "def myPutText(src, text, pos, font_size, font_color) :\n",
    "    img_pil = Image.fromarray(src)\n",
    "    draw = ImageDraw.Draw(img_pil)\n",
    "    font = ImageFont.truetype('fonts/gulim.ttc', font_size)\n",
    "    draw.text(pos, text, font=font, fill= font_color)\n",
    "    return np.array(img_pil)\n",
    "\n",
    "img = np.zeros((480, 640, 3), dtype = np.uint8)\n",
    "\n",
    "COLOR = (255,255,255) # 흰색 \n",
    "FONT_SIZE = 30\n",
    "\n",
    "# cv2.putText(img, '한글', (20, 50), cv2.FONT_HERSHEY_SIMPLEX, SCALE, COLOR, THICKNESS)\n",
    "# 그림 위치, 텍스트 내용, 시작 위치, 폰트 종류, 크기 , 색깔, 두께\n",
    "\n",
    "img = myPutText(img, '나도 코딩', (20,50), FONT_SIZE, COLOR)\n",
    "\n",
    "cv2.imshow('img',img)\n",
    "cv2.waitKey(0)\n",
    "cv2.destroyAllWindows()"
   ]
  }
 ],
 "metadata": {
  "kernelspec": {
   "display_name": "Python 3 (ipykernel)",
   "language": "python",
   "name": "python3"
  },
  "language_info": {
   "codemirror_mode": {
    "name": "ipython",
    "version": 3
   },
   "file_extension": ".py",
   "mimetype": "text/x-python",
   "name": "python",
   "nbconvert_exporter": "python",
   "pygments_lexer": "ipython3",
   "version": "3.9.12"
  }
 },
 "nbformat": 4,
 "nbformat_minor": 5
}
