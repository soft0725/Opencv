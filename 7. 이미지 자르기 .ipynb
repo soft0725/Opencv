{
 "cells": [
  {
   "cell_type": "markdown",
   "id": "7be45444",
   "metadata": {},
   "source": [
    "# 7. 이미지 자르기"
   ]
  },
  {
   "cell_type": "markdown",
   "id": "489bf608",
   "metadata": {},
   "source": [
    "영역을 잘라서 새로운 윈도우(창)에 표시"
   ]
  },
  {
   "cell_type": "code",
   "execution_count": 2,
   "id": "1e233366",
   "metadata": {},
   "outputs": [],
   "source": [
    "import cv2\n",
    "img = cv2.imread('img.jpg')\n",
    "# img.shape # 426 640 3\n",
    "\n",
    "crop = img[100:200, 300:400] # 세로 기준 100 : 200 , 가로 기준 300 : 400\n",
    "\n",
    "cv2.imshow('img',img) # 원본\n",
    "cv2.imshow('crop',crop) # 잘린 이미지 \n",
    "cv2.waitKey(0)\n",
    "cv2.destroyAllWindows()"
   ]
  },
  {
   "cell_type": "markdown",
   "id": "1519affc",
   "metadata": {},
   "source": [
    "영역을 잘라서 기존 윈도우에 표시 "
   ]
  },
  {
   "cell_type": "code",
   "execution_count": 12,
   "id": "881f7930",
   "metadata": {},
   "outputs": [],
   "source": [
    "import cv2\n",
    "img = cv2.imread('img.jpg')\n",
    "\n",
    "crop = img[100:200, 300:400] # 세로 기준 100 : 200 , 가로 기준 300 : 400\n",
    "img[100:200 , 400 : 500] = crop\n",
    "\n",
    "cv2.imshow('img',img) # 원본\n",
    "cv2.waitKey(0)\n",
    "cv2.destroyAllWindows()"
   ]
  }
 ],
 "metadata": {
  "kernelspec": {
   "display_name": "Python 3 (ipykernel)",
   "language": "python",
   "name": "python3"
  },
  "language_info": {
   "codemirror_mode": {
    "name": "ipython",
    "version": 3
   },
   "file_extension": ".py",
   "mimetype": "text/x-python",
   "name": "python",
   "nbconvert_exporter": "python",
   "pygments_lexer": "ipython3",
   "version": "3.9.12"
  }
 },
 "nbformat": 4,
 "nbformat_minor": 5
}
