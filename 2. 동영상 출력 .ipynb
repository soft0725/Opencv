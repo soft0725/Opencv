{
 "cells": [
  {
   "cell_type": "markdown",
   "id": "9f5d6759",
   "metadata": {},
   "source": [
    "# 2. 동영상 출력 "
   ]
  },
  {
   "cell_type": "markdown",
   "id": "a903eb54",
   "metadata": {},
   "source": [
    "## 동영상 파일 출력"
   ]
  },
  {
   "cell_type": "code",
   "execution_count": 9,
   "id": "a28b7dc9",
   "metadata": {},
   "outputs": [
    {
     "name": "stdout",
     "output_type": "stream",
     "text": [
      "더 이상 가져올 프레임이 없음\n"
     ]
    }
   ],
   "source": [
    "import cv2\n",
    "\n",
    "cap = cv2.VideoCapture('video.mp4')\n",
    "\n",
    "while cap.isOpened(): # 동영상 파일이 올바로 열렸는지 \n",
    "    ret, frame = cap.read() # ret : 성공 여부, frame : 받아온 이미지 (프레임)\n",
    "    if not ret : \n",
    "        print('더 이상 가져올 프레임이 없음')\n",
    "        break\n",
    "    \n",
    "    cv2.imshow('video', frame)\n",
    "    \n",
    "    if cv2.waitKey(25) == ord('q'): # waitKey 안의 값을 조정하면 영상의 속도가 달라짐 \n",
    "        print('사용자 입력에 의해 종료 . . .')\n",
    "        break \n",
    "cap.release() # 자원 해제 \n",
    "cv2.destroyAllWindows() # 모든 창 닫기"
   ]
  },
  {
   "cell_type": "markdown",
   "id": "a41f5ddd",
   "metadata": {},
   "source": [
    "## 카메라 출력 "
   ]
  },
  {
   "cell_type": "code",
   "execution_count": 10,
   "id": "24666bd7",
   "metadata": {},
   "outputs": [
    {
     "name": "stdout",
     "output_type": "stream",
     "text": [
      "사용자 입력에 의해 종료 . . .\n"
     ]
    }
   ],
   "source": [
    "cap = cv2.VideoCapture(0) # 0번째 카메라 장치 (Device ID)\n",
    "\n",
    "if not cap.isOpened(): # 카메라가 잘 열리지 않은 경우 \n",
    "    exit() # 프로그램 종료 \n",
    "\n",
    "while cap.isOpened(): # 동영상 파일이 올바로 열렸는지 \n",
    "    ret, frame = cap.read() # ret : 성공 여부, frame : 받아온 이미지 (프레임)\n",
    "    if not ret : \n",
    "        break\n",
    "    \n",
    "    cv2.imshow('camera', frame)\n",
    "    \n",
    "    if cv2.waitKey(25) == ord('q'): # waitKey 안의 값을 조정하면 영상의 속도가 달라짐 \n",
    "        print('사용자 입력에 의해 종료 . . .')\n",
    "        break \n",
    "cap.release() # 자원 해제 \n",
    "cv2.destroyAllWindows() # 모든 창 닫기"
   ]
  }
 ],
 "metadata": {
  "kernelspec": {
   "display_name": "Python 3 (ipykernel)",
   "language": "python",
   "name": "python3"
  },
  "language_info": {
   "codemirror_mode": {
    "name": "ipython",
    "version": 3
   },
   "file_extension": ".py",
   "mimetype": "text/x-python",
   "name": "python",
   "nbconvert_exporter": "python",
   "pygments_lexer": "ipython3",
   "version": "3.9.12"
  }
 },
 "nbformat": 4,
 "nbformat_minor": 5
}
