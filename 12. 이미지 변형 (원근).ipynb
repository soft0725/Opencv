{
 "cells": [
  {
   "cell_type": "markdown",
   "id": "c6e6f10a",
   "metadata": {},
   "source": [
    "# 12. 이미지 변형 (원근)"
   ]
  },
  {
   "cell_type": "markdown",
   "id": "f11d84f3",
   "metadata": {},
   "source": [
    "## 사다리꼴 이미지 펼치기"
   ]
  },
  {
   "cell_type": "code",
   "execution_count": 1,
   "id": "4cd144c3",
   "metadata": {
    "scrolled": true
   },
   "outputs": [],
   "source": [
    "import cv2\n",
    "import numpy as np\n",
    "\n",
    "img = cv2.imread('newspaper.jpg')\n",
    "\n",
    "width, height = 640,240 # 가로 크기 640, 세로 크기 240 으로 결과물 출력 \n",
    "\n",
    "src = np.array([[511, 352], [1008,345], [1122,584], [455,594]], dtype=np.float32) # input 4개 지정 \n",
    "dst = np.array([[0,0], [width,0], [width,height], [0,height]],  dtype=np.float32) # output 4개 지정\n",
    "# 좌상, 우상, 우하, 좌하 \n",
    "\n",
    "matrix = cv2.getPerspectiveTransform(src, dst) # Matrix 얻어옴 \n",
    "result = cv2.warpPerspective(img, matrix, (width, height)) # martix 대로 변환을 함 \n",
    "\n",
    "cv2.imshow('img', img)\n",
    "cv2.imshow('result', result)\n",
    "cv2.waitKey(0)\n",
    "cv2.destroyAllWindows()"
   ]
  },
  {
   "cell_type": "markdown",
   "id": "45cd504e",
   "metadata": {},
   "source": [
    "## 회전된 이미지 올바로 세우기"
   ]
  },
  {
   "cell_type": "code",
   "execution_count": 2,
   "id": "239e1beb",
   "metadata": {},
   "outputs": [],
   "source": [
    "import cv2\n",
    "import numpy as np\n",
    "\n",
    "img = cv2.imread('poker.jpg')\n",
    "\n",
    "width, height = 530,710 \n",
    "\n",
    "src = np.array([[702,143],[1133,414],[726,1007],[276,700]], dtype=np.float32) # input 4개 지정 \n",
    "dst = np.array([[0,0], [width,0], [width,height], [0,height]],  dtype=np.float32) # output 4개 지정\n",
    "# 좌상, 우상, 우하, 좌하 \n",
    "\n",
    "matrix = cv2.getPerspectiveTransform(src, dst) # Matrix 얻어옴 \n",
    "result = cv2.warpPerspective(img, matrix, (width, height)) # martix 대로 변환을 함 \n",
    "\n",
    "cv2.imshow('img', img)\n",
    "cv2.imshow('result', result)\n",
    "cv2.waitKey(0)\n",
    "cv2.destroyAllWindows()"
   ]
  },
  {
   "cell_type": "markdown",
   "id": "96d69e15",
   "metadata": {},
   "source": [
    "## 미니 프로젝트 : 반자동 문서 스케너"
   ]
  },
  {
   "cell_type": "markdown",
   "id": "bd6cd88f",
   "metadata": {},
   "source": [
    "### 마우스 이벤트 등록"
   ]
  },
  {
   "cell_type": "code",
   "execution_count": 8,
   "id": "c8fa2e3d",
   "metadata": {},
   "outputs": [
    {
     "name": "stdout",
     "output_type": "stream",
     "text": [
      "왼쪽 버튼 Down\n",
      "617 104\n",
      "왼쪽 버튼 up\n",
      "617 104\n",
      "왼쪽 버튼 Down\n",
      "606 111\n",
      "왼쪽 버튼 up\n",
      "606 111\n",
      "왼쪽 버튼 Double Click\n",
      "왼쪽 버튼 up\n",
      "606 111\n",
      "오른쪽 버튼 down\n",
      "왼쪽 버튼 Down\n",
      "467 90\n",
      "왼쪽 버튼 up\n",
      "467 90\n",
      "오른쪽 버튼 down\n",
      "왼쪽 버튼 Down\n",
      "467 90\n",
      "왼쪽 버튼 up\n",
      "467 90\n",
      "오른쪽 버튼 down\n",
      "왼쪽 버튼 Down\n",
      "467 90\n",
      "왼쪽 버튼 up\n",
      "467 90\n",
      "왼쪽 버튼 Down\n",
      "1141 166\n",
      "왼쪽 버튼 up\n",
      "1141 166\n"
     ]
    }
   ],
   "source": [
    "import cv2\n",
    "\n",
    "def mouse_handler(event, x, y, flags, param) :\n",
    "    if event == cv2.EVENT_LBUTTONDOWN : # 마우스 왼쪽 버튼 down \n",
    "        print('왼쪽 버튼 Down')\n",
    "        print(x,y)\n",
    "    elif event == cv2.EVENT_LBUTTONUP : # 마우스 왼쪽 버튼 up\n",
    "        print('왼쪽 버튼 up')\n",
    "        print(x,y)\n",
    "    elif event == cv2.EVENT_LBUTTONDBLCLK : # 마우스 왼쪽 버튼 더블 클릭 \n",
    "        print('왼쪽 버튼 Double Click')\n",
    "    elif event == cv2.EVENT_MOUSEMOVE : # 마우스 이동\n",
    "        pass\n",
    "        # print('마우스 이동')\n",
    "    elif event == cv2.EVENT_RBUTTONDOWN : # 오른쪽 버튼 down\n",
    "        print('오른쪽 버튼 down')\n",
    "\n",
    "img = cv2.imread('poker.jpg')\n",
    "cv2.namedWindow('img') # img란 이름의 윈도우를 먼저 만들어두는 것. 여기에 마우스 이벤트를 처리하기 위한 헨들러 적용 \n",
    "cv2.setMouseCallback('img', mouse_handler)\n",
    "cv2.imshow('img', img)\n",
    "cv2.waitKey(0)\n",
    "cv2.destroyAllWindows()"
   ]
  },
  {
   "cell_type": "markdown",
   "id": "cceb1633",
   "metadata": {},
   "source": [
    "### 프로젝트"
   ]
  },
  {
   "cell_type": "code",
   "execution_count": 23,
   "id": "0e023bd6",
   "metadata": {},
   "outputs": [],
   "source": [
    "import cv2\n",
    "import numpy as np \n",
    "\n",
    "point_list = []\n",
    "src_img = cv2.imread('poker.jpg')\n",
    "\n",
    "COLOR = (255,0,255) # 핑크 \n",
    "THICKNESS = 3\n",
    "drawing = False # 선을 그릴지 여부 \n",
    "\n",
    "def mouse_handler(event, x, y, flags, param) :\n",
    "    global drawing\n",
    "    dst_img = src_img.copy()\n",
    "    \n",
    "    if event == cv2.EVENT_LBUTTONDOWN : # 마우스 왼쪽 버튼 down \n",
    "        drawing = True # 선을 그리기 시작\n",
    "        point_list.append((x,y))\n",
    "    \n",
    "    if drawing:\n",
    "        prev_point = None # 직선의 시작점 \n",
    "        for point in point_list:\n",
    "            cv2.circle(dst_img,point,15, COLOR, cv2.FILLED)\n",
    "            if prev_point :\n",
    "                cv2.line(dst_img, prev_point, point, COLOR, THICKNESS, cv2.LINE_AA)\n",
    "            prev_point = point\n",
    "        \n",
    "        next_point = (x,y)\n",
    "        if len(point_list) == 4:\n",
    "            show_result() # 결과 출력 \n",
    "            next_point = point_list[0] # 첫 번째 클릭한 지점 \n",
    "            \n",
    "        cv2.line(dst_img, prev_point, next_point, COLOR, THICKNESS, cv2.LINE_AA)\n",
    "        \n",
    "    cv2.imshow('img', dst_img)\n",
    "\n",
    "def show_result() :\n",
    "    width, height = 530,710 \n",
    "\n",
    "    src = np.float32(point_list)\n",
    "    dst = np.array([[0,0], [width,0], [width,height], [0,height]],  dtype=np.float32) # output 4개 지정\n",
    "    # 좌상, 우상, 우하, 좌하 \n",
    "\n",
    "    matrix = cv2.getPerspectiveTransform(src, dst) # Matrix 얻어옴 \n",
    "    result = cv2.warpPerspective(src_img, matrix, (width, height)) # martix 대로 변환을 함 \n",
    "    cv2.imshow('result', result)\n",
    "    \n",
    "cv2.namedWindow('img') # img란 이름의 윈도우를 먼저 만들어두는 것. 여기에 마우스 이벤트를 처리하기 위한 헨들러 적용 \n",
    "cv2.setMouseCallback('img', mouse_handler)\n",
    "cv2.imshow('img', src_img)\n",
    "cv2.waitKey(0)\n",
    "cv2.destroyAllWindows()"
   ]
  }
 ],
 "metadata": {
  "kernelspec": {
   "display_name": "Python 3 (ipykernel)",
   "language": "python",
   "name": "python3"
  },
  "language_info": {
   "codemirror_mode": {
    "name": "ipython",
    "version": 3
   },
   "file_extension": ".py",
   "mimetype": "text/x-python",
   "name": "python",
   "nbconvert_exporter": "python",
   "pygments_lexer": "ipython3",
   "version": "3.9.12"
  }
 },
 "nbformat": 4,
 "nbformat_minor": 5
}
