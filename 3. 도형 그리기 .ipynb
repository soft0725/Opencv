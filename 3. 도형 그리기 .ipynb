{
 "cells": [
  {
   "cell_type": "markdown",
   "id": "559faa86",
   "metadata": {},
   "source": [
    "# 3. 도형 그리기 "
   ]
  },
  {
   "cell_type": "markdown",
   "id": "90325e23",
   "metadata": {},
   "source": [
    "## 빈 스케치북 만들기"
   ]
  },
  {
   "cell_type": "code",
   "execution_count": 1,
   "id": "16da7172",
   "metadata": {},
   "outputs": [],
   "source": [
    "import cv2\n",
    "import numpy as np\n",
    "\n",
    "# 세로 480 x 가로 640, 3 Channel (RGB) 에 해당하는 스케치북 만들기 \n",
    "img = np.zeros((480,640,3), dtype=np.uint8)\n",
    "# img = np.zeros((255,255,255), dtype=np.uint8) # 전체 공간을 흰 색으로 채우기 \n",
    "# print('img',img)\n",
    "cv2.imshow('img',img)\n",
    "cv2.waitKey(0)\n",
    "cv2.destroyAllWindows()"
   ]
  },
  {
   "cell_type": "markdown",
   "id": "7f1b708a",
   "metadata": {},
   "source": [
    "## 일부 영역 색칠 "
   ]
  },
  {
   "cell_type": "code",
   "execution_count": 2,
   "id": "deea87ff",
   "metadata": {},
   "outputs": [],
   "source": [
    "img = np.zeros((480,640,3), dtype=np.uint8)\n",
    "img[100:200, 200:300] = (255,255,255) \n",
    "# 세로 기준 100에서 200까지 가로 기준 200에서 300까지 흰색\n",
    "\n",
    "cv2.imshow('img',img)\n",
    "cv2.waitKey(0)\n",
    "cv2.destroyAllWindows()"
   ]
  },
  {
   "cell_type": "markdown",
   "id": "41bfb788",
   "metadata": {},
   "source": [
    "## 직선 \n",
    "직선의 종류 (line type)\n",
    "\n",
    "1. cv2.LINE_4 : 상화좌우 4 방향으로 연결된 선 \n",
    "1. cv2.LINE_8 : 대각선을 포함한 8 반향으로 연결된 선 (기본값)\n",
    "1. cv2.LINE_AA : 부드러운 선 (anti-aliasing)"
   ]
  },
  {
   "cell_type": "code",
   "execution_count": 8,
   "id": "30e1592f",
   "metadata": {},
   "outputs": [],
   "source": [
    "img = np.zeros((480,640,3), dtype=np.uint8)\n",
    "\n",
    "COLOR = (0, 255, 255) # BGR : Yellow\n",
    "THICKNNESS = 3 # 두께\n",
    "\n",
    "cv2.line(img, (50,100), (400,50), COLOR, THICKNNESS, cv2.LINE_8) \n",
    "# 그릴 위치, 시작 점,    끝 점   , 색,     두께,     선 종류 \n",
    "cv2.line(img, (50,130), (400,80), COLOR, THICKNNESS, cv2.LINE_4)\n",
    "cv2.line(img, (50,160), (400,110), COLOR, THICKNNESS, cv2.LINE_AA) \n",
    "\n",
    "cv2.imshow('img', img)\n",
    "cv2.waitKey(0)\n",
    "cv2.destroyAllWindows()"
   ]
  },
  {
   "cell_type": "markdown",
   "id": "30e15b36",
   "metadata": {},
   "source": [
    "## 원 "
   ]
  },
  {
   "cell_type": "code",
   "execution_count": 11,
   "id": "71d45335",
   "metadata": {},
   "outputs": [],
   "source": [
    "img = np.zeros((480,640,3), dtype=np.uint8)\n",
    "\n",
    "COLOR = (255, 255, 0) # BGR : 옥색\n",
    "RADIUS = 50 # 반지름 \n",
    "THICKNNESS = 3 # 두께\n",
    "\n",
    "cv2.circle(img, (200,100), RADIUS, COLOR, THICKNNESS, cv2.LINE_AA)\n",
    "# 그릴 위치, 원의 중심점, 반지름, 색깔, 두께, 선 종류 \n",
    "cv2.circle(img, (400,100), RADIUS, COLOR, cv2.FILLED, cv2.LINE_AA)\n",
    "\n",
    "cv2.imshow('img', img)\n",
    "cv2.waitKey(0)\n",
    "cv2.destroyAllWindows()"
   ]
  },
  {
   "cell_type": "markdown",
   "id": "60a9a75b",
   "metadata": {},
   "source": [
    "## 사각형"
   ]
  },
  {
   "cell_type": "code",
   "execution_count": 13,
   "id": "51451211",
   "metadata": {},
   "outputs": [],
   "source": [
    "img = np.zeros((480,640,3), dtype=np.uint8)\n",
    "\n",
    "COLOR = (0, 255, 0) # BGR : 초록색\n",
    "THICKNNESS = 3 # 두께\n",
    "\n",
    "cv2.rectangle(img, (100,100), (200,200), COLOR, THICKNNESS) # 속이 빈 사각형 \n",
    "# 그릴 위치, 왼쪽 위 좌표, 오른쪽 아래 좌표, 색깔, 두께\n",
    "cv2.rectangle(img, (300,100), (400,200), COLOR, cv2.FILLED)\n",
    "\n",
    "cv2.imshow('img', img)\n",
    "cv2.waitKey(0)\n",
    "cv2.destroyAllWindows()"
   ]
  },
  {
   "cell_type": "markdown",
   "id": "1dec6a2c",
   "metadata": {},
   "source": [
    "## 다각형"
   ]
  },
  {
   "cell_type": "code",
   "execution_count": 19,
   "id": "4f6b27f6",
   "metadata": {},
   "outputs": [],
   "source": [
    "img = np.zeros((480,640,3), dtype=np.uint8)\n",
    "\n",
    "COLOR = (0, 0, 255) # BGR : 빨간색\n",
    "THICKNESS = 3 # 두께\n",
    "\n",
    "pts1 = np.array([[100,100], [200,100], [100,200]])\n",
    "cv2.polylines(img, [pts1], True, COLOR, THICKNESS, cv2.LINE_AA)\n",
    "\n",
    "cv2.imshow('img', img)\n",
    "cv2.waitKey(0)\n",
    "cv2.destroyAllWindows()"
   ]
  }
 ],
 "metadata": {
  "kernelspec": {
   "display_name": "Python 3 (ipykernel)",
   "language": "python",
   "name": "python3"
  },
  "language_info": {
   "codemirror_mode": {
    "name": "ipython",
    "version": 3
   },
   "file_extension": ".py",
   "mimetype": "text/x-python",
   "name": "python",
   "nbconvert_exporter": "python",
   "pygments_lexer": "ipython3",
   "version": "3.9.12"
  }
 },
 "nbformat": 4,
 "nbformat_minor": 5
}
